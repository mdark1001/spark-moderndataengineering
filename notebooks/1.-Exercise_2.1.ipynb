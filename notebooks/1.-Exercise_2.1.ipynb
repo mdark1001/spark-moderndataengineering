{
 "cells": [
  {
   "cell_type": "markdown",
   "id": "4b941e20-fb4c-498c-a4bc-87e2e64fe6b6",
   "metadata": {},
   "source": [
    "## Ejercicio 2-1"
   ]
  },
  {
   "cell_type": "markdown",
   "id": "5496a61b-f3d5-4580-94cb-7863eb9c6be2",
   "metadata": {},
   "source": [
    "Creamos una serie de jobs para leer los datos de la activdad de usarios sobre una plataforma de E-commerce. El objetivo es proponer los siguientes tres reportes:"
   ]
  },
  {
   "cell_type": "markdown",
   "id": "115ad211-d54b-442c-88a8-2e96ad4cde89",
   "metadata": {},
   "source": [
    "- Identificar la actidad  de usuarios activos únicos por día\n",
    "- Calcular el promedio de artículos en los carritos de compras \n",
    "- Generar el top de artículos agregados al carrito."
   ]
  },
  {
   "cell_type": "markdown",
   "id": "dd9525cc-94f2-45eb-9d1d-e81728a8dc43",
   "metadata": {},
   "source": [
    "#### Antes de comenzar\n",
    "- ¿Cúales son las fuentes de datos que tenemos disponibles?\n",
    "- ¿Quién es el propietario de los datos? / Sabemos quien produce la información\n",
    "- ¿La información puede ser leída directamente por Spark?"
   ]
  },
  {
   "cell_type": "code",
   "execution_count": 19,
   "id": "ac3a7afb-6bf2-4e96-9b2a-27223d139c0a",
   "metadata": {},
   "outputs": [],
   "source": [
    "## Comenzamos con Spark \n",
    "from pyspark.sql import SparkSession\n",
    "import  pyspark.sql.functions as F"
   ]
  },
  {
   "cell_type": "code",
   "execution_count": 10,
   "id": "05fee56e-7adc-4918-93e3-1fe43029a628",
   "metadata": {},
   "outputs": [],
   "source": [
    "# toda aplicación de spark usar un driver que se conecta con spark \n",
    "# se crea la sesión para comunicarnos con el clúster\n",
    "spark = SparkSession.builder.appName('ecommerce').getOrCreate()"
   ]
  },
  {
   "cell_type": "code",
   "execution_count": 13,
   "id": "4a6215b4-b551-4962-8325-c4c4bd36863a",
   "metadata": {},
   "outputs": [],
   "source": [
    "# creamos un dataframe desde un objeto array-de-arrays y asigna los headers del DF\n",
    "ecmm = spark.createDataFrame([\n",
    "    ['u1','c1','i1'],\n",
    "    ['u2','c2','i1'],\n",
    "    ['u1','c1','i2'],\n",
    "    ['u3','c3','i2'],\n",
    "    ['u3','c3','i2'],\n",
    "    ['u2','c2','i3'],\n",
    "]).toDF(\"user_id\",\"cart_id\",\"item_id\")"
   ]
  },
  {
   "cell_type": "code",
   "execution_count": 14,
   "id": "bacc0031-ce7b-42db-b584-40e674864b1e",
   "metadata": {},
   "outputs": [
    {
     "name": "stdout",
     "output_type": "stream",
     "text": [
      "+-------+-------+-------+\n",
      "|user_id|cart_id|item_id|\n",
      "+-------+-------+-------+\n",
      "|     u1|     c1|     i1|\n",
      "|     u2|     c2|     i1|\n",
      "|     u1|     c1|     i2|\n",
      "+-------+-------+-------+\n",
      "only showing top 3 rows\n",
      "\n"
     ]
    }
   ],
   "source": [
    "ecmm.show(3)"
   ]
  },
  {
   "cell_type": "markdown",
   "id": "e93024ce-a843-4982-a54c-0bc424ac8911",
   "metadata": {},
   "source": []
  },
  {
   "cell_type": "markdown",
   "id": "5b3a0412-9015-4749-b8c7-a77bda01de5f",
   "metadata": {},
   "source": [
    "#### 1- Identificar la actidad  de usuarios activos únicos por día"
   ]
  },
  {
   "cell_type": "code",
   "execution_count": 18,
   "id": "92544456-d01f-43f7-b939-fdb9ba69fada",
   "metadata": {},
   "outputs": [
    {
     "data": {
      "text/plain": [
       "3"
      ]
     },
     "execution_count": 18,
     "metadata": {},
     "output_type": "execute_result"
    }
   ],
   "source": [
    "activity = ecmm.select(\"user_id\").distinct().count()\n",
    "activity"
   ]
  },
  {
   "cell_type": "markdown",
   "id": "3529b926-cd1f-4abd-8705-f037514c6f03",
   "metadata": {},
   "source": [
    "La consulta regresa el número de usuarios activos (únicos)"
   ]
  },
  {
   "cell_type": "markdown",
   "id": "8179b200-3692-45b4-8e5a-4819a085444b",
   "metadata": {},
   "source": [
    "#### 2.- Calcular el promedio de artículos en los carritos de compras "
   ]
  },
  {
   "cell_type": "code",
   "execution_count": 25,
   "id": "55fef031-7c0b-4f99-9028-2b60635472e3",
   "metadata": {},
   "outputs": [],
   "source": [
    "avg_items = ecmm.select(\"cart_id\",\"item_id\").groupBy(\"cart_id\") \\\n",
    "            .agg(F.count(F.col(\"item_id\")).alias( \"total_per_cart_items\")) \\\n",
    "            .agg(F.avg(F.col(\"total_per_cart_items\")).alias(\"avg_items_per_cart\"))\n",
    "                 \n",
    "    "
   ]
  },
  {
   "cell_type": "code",
   "execution_count": 26,
   "id": "77a414c9-e44b-4f24-a333-ffc347df2138",
   "metadata": {},
   "outputs": [
    {
     "name": "stdout",
     "output_type": "stream",
     "text": [
      "== Physical Plan ==\n",
      "AdaptiveSparkPlan isFinalPlan=false\n",
      "+- HashAggregate(keys=[], functions=[avg(total_per_cart_items#141L)])\n",
      "   +- Exchange SinglePartition, ENSURE_REQUIREMENTS, [plan_id=532]\n",
      "      +- HashAggregate(keys=[], functions=[partial_avg(total_per_cart_items#141L)])\n",
      "         +- HashAggregate(keys=[cart_id#57], functions=[count(item_id#58)])\n",
      "            +- Exchange hashpartitioning(cart_id#57, 200), ENSURE_REQUIREMENTS, [plan_id=528]\n",
      "               +- HashAggregate(keys=[cart_id#57], functions=[partial_count(item_id#58)])\n",
      "                  +- Project [_2#51 AS cart_id#57, _3#52 AS item_id#58]\n",
      "                     +- Scan ExistingRDD[_1#50,_2#51,_3#52]\n",
      "\n",
      "\n"
     ]
    }
   ],
   "source": [
    "avg_items.explain()"
   ]
  },
  {
   "cell_type": "code",
   "execution_count": 27,
   "id": "7926fb33-7c6c-4045-8eee-29707861033c",
   "metadata": {},
   "outputs": [
    {
     "name": "stdout",
     "output_type": "stream",
     "text": [
      "+------------------+\n",
      "|avg_items_per_cart|\n",
      "+------------------+\n",
      "|               2.0|\n",
      "+------------------+\n",
      "\n"
     ]
    }
   ],
   "source": [
    "avg_items.show()"
   ]
  },
  {
   "cell_type": "markdown",
   "id": "2ade7fdb-4170-430c-ab60-7bc91ae0e748",
   "metadata": {},
   "source": [
    "Se cálcula el promedio de artíclos en los carritos de los usuarios. "
   ]
  },
  {
   "cell_type": "markdown",
   "id": "5a1a0815-70bc-43b2-bcc4-33bae7cbd659",
   "metadata": {},
   "source": [
    "#### 3.- Generar el top de artículos agregados al carrito."
   ]
  },
  {
   "cell_type": "code",
   "execution_count": 40,
   "id": "b140303c-8882-4101-88ef-aac80eb8ccb1",
   "metadata": {},
   "outputs": [],
   "source": [
    "top_items = ecmm.select(\"item_id\")\\\n",
    "            .groupby(\"item_id\")\\\n",
    "            .agg(F.count(\"item_id\").alias(\"total\"))\\\n",
    "            .sort(F.desc(\"total\"))\\\n",
    "            .limit(2)"
   ]
  },
  {
   "cell_type": "code",
   "execution_count": 38,
   "id": "da5307e9-1615-473d-888b-0e93be19f923",
   "metadata": {},
   "outputs": [
    {
     "name": "stdout",
     "output_type": "stream",
     "text": [
      "+-------+-----+\n",
      "|item_id|total|\n",
      "+-------+-----+\n",
      "|     i2|    3|\n",
      "|     i1|    2|\n",
      "+-------+-----+\n",
      "\n"
     ]
    }
   ],
   "source": [
    "top_items.show()"
   ]
  },
  {
   "cell_type": "markdown",
   "id": "18d24ee9-77f4-4ca0-a5f2-ee44baac965c",
   "metadata": {},
   "source": [
    "La operación de calcular el top emplea agrupaciones y ordenamiento descendiente en conjunto de un límite "
   ]
  },
  {
   "cell_type": "code",
   "execution_count": null,
   "id": "4f864815-cdac-4c2c-b097-ae305674e512",
   "metadata": {},
   "outputs": [],
   "source": []
  }
 ],
 "metadata": {
  "kernelspec": {
   "display_name": "Python 3 (ipykernel)",
   "language": "python",
   "name": "python3"
  },
  "language_info": {
   "codemirror_mode": {
    "name": "ipython",
    "version": 3
   },
   "file_extension": ".py",
   "mimetype": "text/x-python",
   "name": "python",
   "nbconvert_exporter": "python",
   "pygments_lexer": "ipython3",
   "version": "3.11.4"
  }
 },
 "nbformat": 4,
 "nbformat_minor": 5
}
