{
 "cells": [
  {
   "cell_type": "markdown",
   "id": "bf4655c8-215c-4237-9ffa-88f5bc9b2263",
   "metadata": {},
   "source": [
    "## Ejercicio 3.2\n",
    "Lectura de datos, trabajando con datos estructurados"
   ]
  },
  {
   "cell_type": "markdown",
   "id": "a77948ed-1f27-48cf-a0e7-1a6c72577088",
   "metadata": {},
   "source": [
    "Antes de comenzar, es necesario nefinir ¿Qué es un *dataframe*?, es una tabla de datos distribuida en la RAM de los nodos, formada por filas y columnas. "
   ]
  },
  {
   "cell_type": "markdown",
   "id": "39b559b7-d29d-40bd-a13f-da821fb4bf52",
   "metadata": {},
   "source": [
    "### Lectura de DataFrames (DF)"
   ]
  },
  {
   "cell_type": "markdown",
   "id": "e3ec2d95-f63d-4301-84d8-df2dbd0061c6",
   "metadata": {},
   "source": [
    "Spark necesita un conector espeficio que indique cómo obtener los datos de las fuentes, existe una aplia variedad:\n",
    "- HDFS\n",
    "- AWS S3\n",
    "- JDBC y ODBC\n",
    "- Kafka"
   ]
  },
  {
   "cell_type": "markdown",
   "id": "590089ed-9c51-4812-a01d-5aea76eab927",
   "metadata": {},
   "source": [
    "Los formatos disponibles pueden variar, como  archivos JSON, CSV o Parquet."
   ]
  },
  {
   "cell_type": "markdown",
   "id": "20705d51-176b-48fb-a729-f8a91af5dd27",
   "metadata": {},
   "source": [
    "**¿Cómo leer información en spark?**\n",
    "\n",
    "Se usa el atributo SparkSession y [spark.read](http://spark.read)  en el que se especifican diferentes opciones. \n",
    "\n",
    "- Formato: que puede ser alguna de los que ya se mencionó, CSV, JSON, Parquet etc.\n",
    "- Esquema:\n",
    "    - En algunos casos no es necesario\n",
    "    - Spark puede inferir el esquema con inferSchema=true, conlleva mayor tiempo de lectura\n",
    "    - Sí no todos los datos serán strings\n",
    "    - Se puede indicar el schema de forma explícita\n",
    "- Modo de lectura:\n",
    "    - permissive: Null para aquellos registros que consideren corruptos de cada fila\n",
    "    - dropMalformed: Descarta las filas que contienen registros con un formato incorrecto.\n",
    "    - failFast: Lanza un error cuando encuentra un registro con un formato incorrecto."
   ]
  },
  {
   "cell_type": "code",
   "execution_count": 1,
   "id": "e93ed884-5b6b-4362-a0e9-49561062b808",
   "metadata": {},
   "outputs": [],
   "source": [
    "from pyspark.sql import SparkSession\n",
    "from pyspark.sql.types import StructField,StructType, \\\n",
    "                              StringType,IntegerType"
   ]
  },
  {
   "cell_type": "code",
   "execution_count": 2,
   "id": "0a29f250-eeee-4cab-8774-e962ee0c59e3",
   "metadata": {},
   "outputs": [],
   "source": [
    "spark = SparkSession.builder.appName(\"read-files\").getOrCreate()"
   ]
  },
  {
   "cell_type": "markdown",
   "id": "357fddbd-4003-4fbf-a6d9-82771c06a376",
   "metadata": {},
   "source": [
    "#### Cargar Archivos de texto"
   ]
  },
  {
   "cell_type": "markdown",
   "id": "f9413670-52dd-4cff-a3f3-32a3bbb9ac77",
   "metadata": {},
   "source": [
    "```python\n",
    "\n",
    "myDF = spark.read.format(<formato>)\n",
    " .load(\"/path/to/hdfs/file\") # spark es el objeto SparkSession\n",
    " # <formato> puede ser “parquet” | “json” | “csv” | “orc” | “avro”\n",
    "\n",
    " ```"
   ]
  },
  {
   "cell_type": "code",
   "execution_count": 3,
   "id": "d9e82d2d-d7f5-4c4c-823b-c092d042f5bb",
   "metadata": {},
   "outputs": [],
   "source": [
    "rawCoffe = spark.read.format(\"text\").load(\"./data/raw-coffee.txt\")"
   ]
  },
  {
   "cell_type": "code",
   "execution_count": 4,
   "id": "bf74fcc8-ad57-4a6d-bfc0-7ec700e27f7d",
   "metadata": {},
   "outputs": [
    {
     "name": "stdout",
     "output_type": "stream",
     "text": [
      "+--------------+\n",
      "|         value|\n",
      "+--------------+\n",
      "|   folgers, 10|\n",
      "|     yuban, 10|\n",
      "| nespresso, 10|\n",
      "|     ritual, 4|\n",
      "|four barrel, 5|\n",
      "+--------------+\n",
      "\n"
     ]
    }
   ],
   "source": [
    "rawCoffe.show()"
   ]
  },
  {
   "cell_type": "markdown",
   "id": "0a7d310d-1524-4a61-aaca-a51d0b0c8109",
   "metadata": {},
   "source": [
    "Se observa que no posee la estructura correcta para ser manipulado el Dataframe. Al momento de hacer una lectura de alguna fuente se puede especificar el *Schema* "
   ]
  },
  {
   "cell_type": "markdown",
   "id": "cbb7fecd-3500-4bc0-b057-b05e50be118b",
   "metadata": {},
   "source": [
    "**¿Qué es un Schema en Spark?**\n",
    "> Es la definición de los nombres y tipos de datos que va a tomar un dataframe, es un objeto del tipo StructType compuesto por StructFileds. "
   ]
  },
  {
   "cell_type": "code",
   "execution_count": 5,
   "id": "decf6967-3ad1-4563-b5dc-e63129710603",
   "metadata": {},
   "outputs": [],
   "source": [
    "df_coffee_schema =  StructType(\n",
    "    [\n",
    "        StructField(\"name\", StringType(),True),\n",
    "        StructField(\"value\", IntegerType(),True),\n",
    "    ]\n",
    ")"
   ]
  },
  {
   "cell_type": "code",
   "execution_count": 6,
   "id": "05c4e470-44af-4edd-856c-55749fcb2267",
   "metadata": {},
   "outputs": [],
   "source": [
    "df_coffee = spark.read.format(\"csv\").schema(df_coffee_schema) \\\n",
    "            .option(\"header\",True)\\\n",
    "            .option(\"delimiter\",\", \")\\\n",
    "            .load(\"./data/raw-coffee.txt\")"
   ]
  },
  {
   "cell_type": "code",
   "execution_count": 7,
   "id": "6886edea-3fce-45c0-b191-eb34d4baedeb",
   "metadata": {},
   "outputs": [
    {
     "name": "stdout",
     "output_type": "stream",
     "text": [
      "+-----------+-----+\n",
      "|       name|value|\n",
      "+-----------+-----+\n",
      "|      yuban|   10|\n",
      "|  nespresso|   10|\n",
      "|     ritual|    4|\n",
      "|four barrel|    5|\n",
      "+-----------+-----+\n",
      "\n"
     ]
    }
   ],
   "source": [
    "df_coffee.show()"
   ]
  },
  {
   "cell_type": "code",
   "execution_count": 8,
   "id": "6861012b-84cd-4515-b00b-cab3d8a3cc26",
   "metadata": {},
   "outputs": [
    {
     "name": "stdout",
     "output_type": "stream",
     "text": [
      "root\n",
      " |-- name: string (nullable = true)\n",
      " |-- value: integer (nullable = true)\n",
      "\n"
     ]
    }
   ],
   "source": [
    "df_coffee.printSchema()"
   ]
  },
  {
   "cell_type": "markdown",
   "id": "f5da6b3c-cab7-49f9-aeff-750dc39f537d",
   "metadata": {},
   "source": [
    "### Schema inference \n",
    "Spark tiene la capacidad de inferir el tipo de dato de las columnas, sin embargo *no es recomendable*, Spark tiene que leer todo el contenido del archivo, parsear y probar los tipos de datos."
   ]
  },
  {
   "cell_type": "code",
   "execution_count": 12,
   "id": "76bbe29c-cdac-420f-8fb8-82dddedf98c6",
   "metadata": {},
   "outputs": [],
   "source": [
    "df_coffee_without_schema = spark.read.format(\"csv\").option(\"inferSchema\",True).load(\"./data/raw-coffee.txt\")"
   ]
  },
  {
   "cell_type": "code",
   "execution_count": 13,
   "id": "b4dcdc52-940c-4f9f-bf33-05cd980dd1e4",
   "metadata": {},
   "outputs": [
    {
     "name": "stdout",
     "output_type": "stream",
     "text": [
      "root\n",
      " |-- _c0: string (nullable = true)\n",
      " |-- _c1: double (nullable = true)\n",
      "\n"
     ]
    }
   ],
   "source": [
    "df_coffee_without_schema.printSchema()"
   ]
  },
  {
   "cell_type": "code",
   "execution_count": 14,
   "id": "c32753d8-f77c-4754-ba63-6031ee90ad92",
   "metadata": {},
   "outputs": [
    {
     "name": "stdout",
     "output_type": "stream",
     "text": [
      "+-----------+----+\n",
      "|        _c0| _c1|\n",
      "+-----------+----+\n",
      "|    folgers|10.0|\n",
      "|      yuban|10.0|\n",
      "|  nespresso|10.0|\n",
      "|     ritual| 4.0|\n",
      "|four barrel| 5.0|\n",
      "+-----------+----+\n",
      "\n"
     ]
    }
   ],
   "source": [
    "df_coffee_without_schema.show()"
   ]
  },
  {
   "cell_type": "markdown",
   "id": "2f2a677a-7fa8-4f71-bb7c-4b599454bfe9",
   "metadata": {},
   "source": [
    "A simple vista podemos ver que no ha cargado el nombre de las columnas y el tipo de dato de _c1 es doble (double) en lugar de entero. "
   ]
  },
  {
   "cell_type": "markdown",
   "id": "783b0e8b-e40e-4c2f-95dd-92ba8d3ae97b",
   "metadata": {},
   "source": [
    "#### Steal the Schema \n",
    "El patrón Steal the Schema muestra como extraer el schema inferido de un dataframe almecenarlo en un json y posterior reconstruirlo mediante el método `fromJson()` de StructType"
   ]
  },
  {
   "cell_type": "code",
   "execution_count": 15,
   "id": "05c87e1f-d347-4021-a3b0-97464148728b",
   "metadata": {},
   "outputs": [],
   "source": [
    "df_coffee_steal_sh = df_coffee.schema"
   ]
  },
  {
   "cell_type": "code",
   "execution_count": 20,
   "id": "418a19ee-8a94-457c-9c76-c59da6ba1ecb",
   "metadata": {},
   "outputs": [
    {
     "data": {
      "text/plain": [
       "'{\"fields\":[{\"metadata\":{},\"name\":\"name\",\"nullable\":true,\"type\":\"string\"},{\"metadata\":{},\"name\":\"value\",\"nullable\":true,\"type\":\"integer\"}],\"type\":\"struct\"}'"
      ]
     },
     "execution_count": 20,
     "metadata": {},
     "output_type": "execute_result"
    }
   ],
   "source": [
    "df_coffee_steal_sh.json()"
   ]
  },
  {
   "cell_type": "code",
   "execution_count": 28,
   "id": "19cdde7b-71ee-4b70-b967-15e997395ad4",
   "metadata": {},
   "outputs": [],
   "source": [
    "import json # importamos Json para hacer el load "
   ]
  },
  {
   "cell_type": "code",
   "execution_count": 26,
   "id": "8e90b441-3807-410f-a08b-2719cf41ff34",
   "metadata": {},
   "outputs": [],
   "source": [
    "schema_saved = StructType.fromJson( json.loads(df_coffee_steal_sh.json() )) "
   ]
  },
  {
   "cell_type": "code",
   "execution_count": 27,
   "id": "26a1bea2-530a-4b8a-88a2-31bfba47c3fb",
   "metadata": {},
   "outputs": [
    {
     "data": {
      "text/plain": [
       "StructType([StructField('name', StringType(), True), StructField('value', IntegerType(), True)])"
      ]
     },
     "execution_count": 27,
     "metadata": {},
     "output_type": "execute_result"
    }
   ],
   "source": [
    "schema_saved"
   ]
  },
  {
   "cell_type": "code",
   "execution_count": null,
   "id": "38642cf9-fd04-40b3-8e79-a148f34dee07",
   "metadata": {},
   "outputs": [],
   "source": []
  }
 ],
 "metadata": {
  "kernelspec": {
   "display_name": "Python 3 (ipykernel)",
   "language": "python",
   "name": "python3"
  },
  "language_info": {
   "codemirror_mode": {
    "name": "ipython",
    "version": 3
   },
   "file_extension": ".py",
   "mimetype": "text/x-python",
   "name": "python",
   "nbconvert_exporter": "python",
   "pygments_lexer": "ipython3",
   "version": "3.11.4"
  }
 },
 "nbformat": 4,
 "nbformat_minor": 5
}
